{
 "cells": [
  {
   "cell_type": "code",
   "execution_count": null,
   "metadata": {},
   "outputs": [],
   "source": [
    "!pip install --upgrade google-api-python-client google-auth-httplib2 google-auth-oauthlib"
   ]
  },
  {
   "cell_type": "code",
   "execution_count": null,
   "metadata": {},
   "outputs": [
    {
     "name": "stdout",
     "output_type": "stream",
     "text": [
      "Message Id: 196cd043b0a20e35\n"
     ]
    }
   ],
   "source": [
    "import os.path\n",
    "import base64\n",
    "from email.message import EmailMessage\n",
    "from google.auth.transport.requests import Request\n",
    "from google.oauth2.credentials import Credentials\n",
    "from google_auth_oauthlib.flow import InstalledAppFlow\n",
    "from googleapiclient.discovery import build\n",
    "from googleapiclient.errors import HttpError\n",
    "\n",
    "# Gmail API 권한 범위 (메일 보내기)\n",
    "SCOPES = ['https://www.googleapis.com/auth/gmail.send']\n",
    "\n",
    "def main():\n",
    "    creds = None\n",
    "    # 기존 토큰이 있으면 불러오기\n",
    "    if os.path.exists('token.json'):\n",
    "        creds = Credentials.from_authorized_user_file('token.json', SCOPES)\n",
    "    # 토큰이 없거나 만료됐으면 새로 인증\n",
    "    if not creds or not creds.valid:\n",
    "        if creds and creds.expired and creds.refresh_token:\n",
    "            creds.refresh(Request())\n",
    "        else:\n",
    "            flow = InstalledAppFlow.from_client_secrets_file('credentials.json', SCOPES)\n",
    "            creds = flow.run_local_server(port=19999)\n",
    "        # 토큰 저장\n",
    "        with open('token.json', 'w') as token:\n",
    "            token.write(creds.to_json())\n",
    "\n",
    "    try:\n",
    "        service = build('gmail', 'v1', credentials=creds)\n",
    "        # 이메일 메시지 작성\n",
    "        message = EmailMessage()\n",
    "        message.set_content('오늘의 구내식당 메뉴입니다. 맛점 하세요~!')\n",
    "        message['To'] = 'leejh@bccard.com'\n",
    "        message['From'] = 'leejh900811@gmail.com'\n",
    "        message['Subject'] = 'Gmail API 테스트'\n",
    "\n",
    "        # result1.md 파일 읽기\n",
    "        with open('result1.md', 'r', encoding='utf-8') as f:\n",
    "            content = f.read()\n",
    "        \n",
    "        # 메일 내용 설정\n",
    "        message.set_content(content)\n",
    "        \n",
    "        # base64로 인코딩\n",
    "        encoded_message = base64.urlsafe_b64encode(message.as_bytes()).decode()\n",
    "        create_message = {'raw': encoded_message}\n",
    "\n",
    "        # 메일 발송\n",
    "        send_message = service.users().messages().send(userId=\"me\", body=create_message).execute()\n",
    "        print(f\"Message Id: {send_message['id']}\")\n",
    "    except HttpError as error:\n",
    "        print(f\"An error occurred: {error}\")\n",
    "\n",
    "if __name__ == '__main__':\n",
    "    main()"
   ]
  }
 ],
 "metadata": {
  "kernelspec": {
   "display_name": ".venv",
   "language": "python",
   "name": "python3"
  },
  "language_info": {
   "codemirror_mode": {
    "name": "ipython",
    "version": 3
   },
   "file_extension": ".py",
   "mimetype": "text/x-python",
   "name": "python",
   "nbconvert_exporter": "python",
   "pygments_lexer": "ipython3",
   "version": "3.11.9"
  }
 },
 "nbformat": 4,
 "nbformat_minor": 2
}
