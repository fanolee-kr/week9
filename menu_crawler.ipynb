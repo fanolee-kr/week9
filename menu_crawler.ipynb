{
 "cells": [
  {
   "cell_type": "code",
   "execution_count": 30,
   "metadata": {},
   "outputs": [
    {
     "name": "stdout",
     "output_type": "stream",
     "text": [
      "Requirement already satisfied: selenium in .\\.venv\\lib\\site-packages (4.32.0)\n",
      "Requirement already satisfied: webdriver-manager in .\\.venv\\lib\\site-packages (4.0.2)\n",
      "Requirement already satisfied: urllib3<3,>=1.26 in .\\.venv\\lib\\site-packages (from urllib3[socks]<3,>=1.26->selenium) (2.4.0)\n",
      "Requirement already satisfied: trio~=0.17 in .\\.venv\\lib\\site-packages (from selenium) (0.30.0)\n",
      "Requirement already satisfied: trio-websocket~=0.9 in .\\.venv\\lib\\site-packages (from selenium) (0.12.2)\n",
      "Requirement already satisfied: certifi>=2021.10.8 in .\\.venv\\lib\\site-packages (from selenium) (2025.4.26)\n",
      "Requirement already satisfied: typing_extensions~=4.9 in .\\.venv\\lib\\site-packages (from selenium) (4.13.2)\n",
      "Requirement already satisfied: websocket-client~=1.8 in .\\.venv\\lib\\site-packages (from selenium) (1.8.0)\n",
      "Requirement already satisfied: attrs>=23.2.0 in .\\.venv\\lib\\site-packages (from trio~=0.17->selenium) (25.3.0)\n",
      "Requirement already satisfied: sortedcontainers in .\\.venv\\lib\\site-packages (from trio~=0.17->selenium) (2.4.0)\n",
      "Requirement already satisfied: idna in .\\.venv\\lib\\site-packages (from trio~=0.17->selenium) (3.10)\n",
      "Requirement already satisfied: outcome in .\\.venv\\lib\\site-packages (from trio~=0.17->selenium) (1.3.0.post0)\n",
      "Requirement already satisfied: sniffio>=1.3.0 in .\\.venv\\lib\\site-packages (from trio~=0.17->selenium) (1.3.1)\n",
      "Requirement already satisfied: cffi>=1.14 in .\\.venv\\lib\\site-packages (from trio~=0.17->selenium) (1.17.1)\n",
      "Requirement already satisfied: wsproto>=0.14 in .\\.venv\\lib\\site-packages (from trio-websocket~=0.9->selenium) (1.2.0)\n",
      "Requirement already satisfied: pysocks!=1.5.7,<2.0,>=1.5.6 in .\\.venv\\lib\\site-packages (from urllib3[socks]<3,>=1.26->selenium) (1.7.1)\n",
      "Requirement already satisfied: requests in .\\.venv\\lib\\site-packages (from webdriver-manager) (2.32.3)\n",
      "Requirement already satisfied: python-dotenv in .\\.venv\\lib\\site-packages (from webdriver-manager) (1.1.0)\n",
      "Requirement already satisfied: packaging in .\\.venv\\lib\\site-packages (from webdriver-manager) (25.0)\n",
      "Requirement already satisfied: pycparser in .\\.venv\\lib\\site-packages (from cffi>=1.14->trio~=0.17->selenium) (2.22)\n",
      "Requirement already satisfied: h11<1,>=0.9.0 in .\\.venv\\lib\\site-packages (from wsproto>=0.14->trio-websocket~=0.9->selenium) (0.16.0)\n",
      "Requirement already satisfied: charset-normalizer<4,>=2 in .\\.venv\\lib\\site-packages (from requests->webdriver-manager) (3.4.2)\n"
     ]
    }
   ],
   "source": [
    "!pip install selenium webdriver-manager"
   ]
  },
  {
   "cell_type": "code",
   "execution_count": 31,
   "metadata": {},
   "outputs": [],
   "source": [
    "from selenium import webdriver\n",
    "from selenium.webdriver.chrome.service import Service\n",
    "from selenium.webdriver.chrome.options import Options\n",
    "from selenium.webdriver.common.by import By\n",
    "from selenium.webdriver.support.ui import WebDriverWait\n",
    "from selenium.webdriver.support import expected_conditions as EC\n",
    "from webdriver_manager.chrome import ChromeDriverManager\n",
    "import time\n",
    "\n",
    "# 크롬 옵션 설정\n",
    "chrome_options = Options()\n",
    "#chrome_options.add_argument('--headless')  # 헤드리스 모드\n",
    "\n",
    "# 웹드라이버 설정\n",
    "service = Service(ChromeDriverManager().install())\n",
    "driver = webdriver.Chrome(service=service, options=chrome_options)\n",
    "\n",
    "# 카카오 페이지 접속\n",
    "url = \"https://pf.kakao.com/_pxjWxcb/posts\"\n",
    "driver.get(url)\n"
   ]
  },
  {
   "cell_type": "code",
   "execution_count": null,
   "metadata": {},
   "outputs": [
    {
     "data": {
      "text/plain": [
       "'5월 2주차 주간식단표\\n⭐05/12 오늘의 콕! 메뉴\\n\\n반반불고기\\n\\n\\n\\n⭐05/13 오늘의 콕! 메뉴\\n\\n짬뽕순두부\\n\\n\\n\\n⭐05/14 오늘의 콕! 메뉴\\n\\n냉모밀\\n\\n\\n\\n⭐05/15 오늘의 콕! 메뉴\\n\\n오리불고기\\n\\n\\n\\n⭐05/16 오늘의 콕! 메뉴\\n\\n부타동\\n\\n\\n\\n\\n\\n\\n\\n\\n\\n➡ 점심 메이트인 친구, 회사 동료분들과 공유 해 보세요!'"
      ]
     },
     "execution_count": 33,
     "metadata": {},
     "output_type": "execute_result"
    }
   ],
   "source": [
    "# 최근 게시물 클릭\n",
    "# By.CSS_SELECTOR\n",
    "##mArticle > div.wrap_webview > div:nth-child(2) > div.wrap_archive_content > div > div > a\n",
    "recent_post = WebDriverWait(driver, 10).until(\n",
    "    EC.presence_of_element_located((By.CSS_SELECTOR, \"#mArticle > div.wrap_webview > div:nth-child(2) > div.wrap_archive_content > div > div > a\"))\n",
    ")\n",
    "\n",
    "recent_post.text"
   ]
  },
  {
   "cell_type": "code",
   "execution_count": 22,
   "metadata": {},
   "outputs": [],
   "source": [
    "recent_post.click()"
   ]
  },
  {
   "cell_type": "code",
   "execution_count": 25,
   "metadata": {},
   "outputs": [
    {
     "data": {
      "text/plain": [
       "'http://k.kakaocdn.net/dn/ctNGfJ/btsNOlb3zVX/b5zt5KLeG8oC9kPbeklFok/img.png'"
      ]
     },
     "execution_count": 25,
     "metadata": {},
     "output_type": "execute_result"
    }
   ],
   "source": [
    "# 메뉴 이미지 찾기\n",
    "# By.XPATH\n",
    "menu_image = WebDriverWait(driver, 10).until(\n",
    "    #EC.presence_of_element_located((By.XPATH, \"//*[@id=\"mArticle\"]/div[2]/div[1]/div[2]/div/img\"))\n",
    "   EC.presence_of_element_located((By.XPATH, '''//*[@id=\"mArticle\"]/div[2]/div[1]/div[2]/div/img'''))\n",
    ")\n",
    "\n",
    "menu_image.get_attribute('src')"
   ]
  },
  {
   "cell_type": "code",
   "execution_count": 26,
   "metadata": {},
   "outputs": [
    {
     "name": "stdout",
     "output_type": "stream",
     "text": [
      "메뉴 이미지 URL: http://k.kakaocdn.net/dn/ctNGfJ/btsNOlb3zVX/b5zt5KLeG8oC9kPbeklFok/img.png\n"
     ]
    }
   ],
   "source": [
    "# 이미지 URL 가져오기\n",
    "image_url = menu_image.get_attribute('src')\n",
    "print(f\"메뉴 이미지 URL: {image_url}\")"
   ]
  },
  {
   "cell_type": "code",
   "execution_count": 29,
   "metadata": {},
   "outputs": [
    {
     "name": "stdout",
     "output_type": "stream",
     "text": [
      "이미지가 성공적으로 저장되었습니다: menu.png\n"
     ]
    }
   ],
   "source": [
    "import requests\n",
    "from datetime import datetime\n",
    "\n",
    "# 현재 날짜로 파일명 생성\n",
    "current_date = datetime.now().strftime(\"%Y%m%d\")\n",
    "filename = f\"menu.png\"\n",
    "\n",
    "# 이미지 다운로드\n",
    "response = requests.get(image_url)\n",
    "if response.status_code == 200:\n",
    "    with open(filename, 'wb') as f:\n",
    "        f.write(response.content)\n",
    "    print(f\"이미지가 성공적으로 저장되었습니다: {filename}\")\n",
    "else:\n",
    "    print(\"이미지 다운로드에 실패했습니다.\")\n"
   ]
  },
  {
   "cell_type": "code",
   "execution_count": null,
   "metadata": {},
   "outputs": [],
   "source": [
    "# 브라우저 종료\n",
    "driver.quit()"
   ]
  }
 ],
 "metadata": {
  "kernelspec": {
   "display_name": ".venv",
   "language": "python",
   "name": "python3"
  },
  "language_info": {
   "codemirror_mode": {
    "name": "ipython",
    "version": 3
   },
   "file_extension": ".py",
   "mimetype": "text/x-python",
   "name": "python",
   "nbconvert_exporter": "python",
   "pygments_lexer": "ipython3",
   "version": "3.11.9"
  }
 },
 "nbformat": 4,
 "nbformat_minor": 2
}
